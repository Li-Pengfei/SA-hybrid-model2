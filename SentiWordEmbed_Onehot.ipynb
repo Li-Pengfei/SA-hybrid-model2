{
 "cells": [
  {
   "cell_type": "code",
   "execution_count": 1,
   "metadata": {},
   "outputs": [],
   "source": [
    "import pickle\n",
    "import numpy as np\n",
    "\n",
    "def getSentiWordNet(file_path='./resource/SentiWordNet_3.0.0_20130122.txt'):\n",
    "    length = len(open(file_path,'r').readlines())\n",
    "    f = open(file_path,'r', encoding='UTF-8')\n",
    "    for i in range(27):\n",
    "        f.readline()\n",
    "\n",
    "    idxsDict={}# record the id of the score\n",
    "    for i in range(27,length-1):\n",
    "        textList=f.readline().split('\\t')\n",
    "        posScore=float(textList[2].strip())\n",
    "        negScore=float(textList[3].strip())\n",
    "        synsetTerms=textList[4].split(' ')\n",
    "        for text in synsetTerms:\n",
    "            temp=text.strip()\n",
    "            l=len(temp)\n",
    "            key=temp[:l-2]\n",
    "            if int(posScore)==1:\n",
    "                posScore=0.99\n",
    "            if int(negScore)==1:\n",
    "                negScore=0.99\n",
    "            if key in idxsDict.keys():\n",
    "                idxsDict[key].add(int(posScore*10))\n",
    "                idxsDict[key].add(int(negScore*10)+10)\n",
    "            if key not in idxsDict.keys():\n",
    "                idxsDict[key]=set([int(posScore*10)])\n",
    "                idxsDict[key].add(int(negScore*10)+10)\n",
    "                \n",
    "    f=open('restult.txt','w',encoding='utf8')\n",
    "    for temp in idxsDict.keys():\n",
    "        f.write(temp+' '+str(idxsDict[temp])+'\\n')\n",
    "        f.flush()\n",
    "    f.close()\n",
    "    return idxsDict\n",
    "\n",
    "def getsentiword_matrix(vocab_train_path='./pickle_data/vocab_train.pickle'):\n",
    "    vocab_train=pickle.load(open(vocab_train_path,'rb'))\n",
    "    sentiword_matrix=np.zeros((len(vocab_train),20),dtype=np.int32)\n",
    "    idxsDict=getSentiWordNet()\n",
    "    for i,word in enumerate(vocab_train.keys()):\n",
    "        if word in idxsDict.keys():\n",
    "            idxs=idxsDict.get(word)\n",
    "            for j in idxs:\n",
    "                sentiword_matrix[i,j]=1               \n",
    "    return sentiword_matrix, idxsDict"
   ]
  },
  {
   "cell_type": "code",
   "execution_count": null,
   "metadata": {},
   "outputs": [],
   "source": []
  },
  {
   "cell_type": "code",
   "execution_count": 2,
   "metadata": {},
   "outputs": [
    {
     "name": "stdout",
     "output_type": "stream",
     "text": [
      "sentiword_matrix shape (106180, 20)\n"
     ]
    }
   ],
   "source": [
    "if __name__=='__main__':\n",
    "    sentiword_matrix, dic_sentiwords = getsentiword_matrix()\n",
    "    print('sentiword_matrix shape',sentiword_matrix.shape)\n",
    "    \n",
    "    file = open('pickle_data/sentiword_matrix.pickle','wb')\n",
    "    pickle.dump(sentiword_matrix,file)\n",
    "    file.close()\n",
    "    \n",
    "    file = open('pickle_data/dic_sentiwords.pickle','wb')\n",
    "    pickle.dump(dic_sentiwords,file)\n",
    "    file.close()"
   ]
  },
  {
   "cell_type": "code",
   "execution_count": 8,
   "metadata": {},
   "outputs": [
    {
     "data": {
      "text/plain": [
       "array([1, 0, 0, 0, 0, 0, 0, 0, 0, 0, 1, 0, 0, 0, 0, 0, 0, 0, 0, 0],\n",
       "      dtype=int32)"
      ]
     },
     "execution_count": 8,
     "metadata": {},
     "output_type": "execute_result"
    }
   ],
   "source": [
    "sentiword_matrix[11]"
   ]
  },
  {
   "cell_type": "code",
   "execution_count": null,
   "metadata": {},
   "outputs": [],
   "source": []
  }
 ],
 "metadata": {
  "kernelspec": {
   "display_name": "Python 3",
   "language": "python",
   "name": "python3"
  },
  "language_info": {
   "codemirror_mode": {
    "name": "ipython",
    "version": 3
   },
   "file_extension": ".py",
   "mimetype": "text/x-python",
   "name": "python",
   "nbconvert_exporter": "python",
   "pygments_lexer": "ipython3",
   "version": "3.6.8"
  }
 },
 "nbformat": 4,
 "nbformat_minor": 2
}
